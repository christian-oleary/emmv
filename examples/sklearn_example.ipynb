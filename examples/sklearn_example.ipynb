{
    "cells": [
        {
            "cell_type": "markdown",
            "source": [
                "Example of emmv library using scikit-learn"
            ],
            "metadata": {}
        },
        {
            "cell_type": "code",
            "execution_count": null,
            "source": [
                "# Install emmv\r\n",
                "\r\n",
                "! pip install --user emmv"
            ],
            "outputs": [],
            "metadata": {}
        },
        {
            "cell_type": "code",
            "execution_count": 5,
            "source": [
                "# Imports\r\n",
                "\r\n",
                "from emmv import emmv_scores\r\n",
                "import numpy as np\r\n",
                "from sklearn.ensemble import IsolationForest"
            ],
            "outputs": [],
            "metadata": {}
        },
        {
            "cell_type": "code",
            "execution_count": 6,
            "source": [
                "# Create data, fit a model and retrieve EM/MV scores\r\n",
                "\r\n",
                "rng = np.random.RandomState(42)\r\n",
                "\r\n",
                "# Data and model fitting adapted from: https://scikit-learn.org/stable/auto_examples/ensemble/plot_isolation_forest.html\r\n",
                "NUM_COLS = 2\r\n",
                "# Generate train data\r\n",
                "X = 0.3 * rng.randn(100, NUM_COLS)\r\n",
                "X_train = np.r_[X + 2, X - 2]\r\n",
                "# Generate some regular novel observations\r\n",
                "X = 0.3 * rng.randn(20, NUM_COLS)\r\n",
                "X_regular = np.r_[X + 2, X - 2]\r\n",
                "# Generate some abnormal novel observations\r\n",
                "X_outliers = rng.uniform(low=-4, high=4, size=(20, NUM_COLS))\r\n",
                "# fit the model\r\n",
                "model = IsolationForest(max_samples=100, random_state=rng)\r\n",
                "model.fit(X_train)\r\n",
                "\r\n",
                "# Get EM & MV scores\r\n",
                "X_test = np.concatenate((X_regular, X_outliers), axis=0)\r\n",
                "test_scores = emmv_scores(model, X_test)\r\n",
                "print('Excess Mass score;', test_scores['em'])\r\n",
                "print('Mass Volume score:', test_scores['mv'])"
            ],
            "outputs": [
                {
                    "output_type": "stream",
                    "name": "stdout",
                    "text": [
                        "Excess Mass score; 0.07170818386666666\n",
                        "Mass Volume score: 45.02629787785894\n"
                    ]
                }
            ],
            "metadata": {}
        }
    ],
    "metadata": {
        "orig_nbformat": 4,
        "language_info": {
            "name": "python",
            "version": "3.7.6",
            "mimetype": "text/x-python",
            "codemirror_mode": {
                "name": "ipython",
                "version": 3
            },
            "pygments_lexer": "ipython3",
            "nbconvert_exporter": "python",
            "file_extension": ".py"
        },
        "kernelspec": {
            "name": "python3",
            "display_name": "Python 3.7.6 64-bit"
        },
        "interpreter": {
            "hash": "3c52f30ee383d6ece949a0f8981418e54cc2868364b6f1bfcc1791d9c5cc2c47"
        }
    },
    "nbformat": 4,
    "nbformat_minor": 2
}