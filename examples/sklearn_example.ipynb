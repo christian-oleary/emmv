{
    "cells": [
        {
            "cell_type": "markdown",
            "source": [
                "Example of emmv library using scikit-learn"
            ],
            "metadata": {}
        },
        {
            "cell_type": "code",
            "execution_count": 7,
            "source": [
                "# Install emmv\r\n",
                "\r\n",
                "! pip install --user emmv"
            ],
            "outputs": [
                {
                    "output_type": "stream",
                    "name": "stdout",
                    "text": [
                        "Requirement already satisfied: emmv in c:\\users\\cjjol\\appdata\\local\\programs\\python\\python37\\lib\\site-packages (0.0.0)\n",
                        "Requirement already satisfied: numpy in c:\\users\\cjjol\\appdata\\local\\programs\\python\\python37\\lib\\site-packages (from emmv) (1.20.1)\n",
                        "Requirement already satisfied: pandas in c:\\users\\cjjol\\appdata\\local\\programs\\python\\python37\\lib\\site-packages (from emmv) (1.2.2)\n",
                        "Requirement already satisfied: setuptools in c:\\users\\cjjol\\appdata\\roaming\\python\\python37\\site-packages (from emmv) (49.6.0)\n",
                        "Requirement already satisfied: scikit-learn in c:\\users\\cjjol\\appdata\\local\\programs\\python\\python37\\lib\\site-packages (from emmv) (0.24.1)\n",
                        "Requirement already satisfied: pytz>=2017.3 in c:\\users\\cjjol\\appdata\\local\\programs\\python\\python37\\lib\\site-packages (from pandas->emmv) (2021.1)\n",
                        "Requirement already satisfied: python-dateutil>=2.7.3 in c:\\users\\cjjol\\appdata\\local\\programs\\python\\python37\\lib\\site-packages (from pandas->emmv) (2.8.1)\n",
                        "Requirement already satisfied: six>=1.5 in c:\\users\\cjjol\\appdata\\local\\programs\\python\\python37\\lib\\site-packages (from python-dateutil>=2.7.3->pandas->emmv) (1.15.0)\n",
                        "Requirement already satisfied: threadpoolctl>=2.0.0 in c:\\users\\cjjol\\appdata\\local\\programs\\python\\python37\\lib\\site-packages (from scikit-learn->emmv) (2.1.0)\n",
                        "Requirement already satisfied: joblib>=0.11 in c:\\users\\cjjol\\appdata\\local\\programs\\python\\python37\\lib\\site-packages (from scikit-learn->emmv) (1.0.1)\n",
                        "Requirement already satisfied: scipy>=0.19.1 in c:\\users\\cjjol\\appdata\\local\\programs\\python\\python37\\lib\\site-packages (from scikit-learn->emmv) (1.3.1)\n"
                    ]
                },
                {
                    "output_type": "stream",
                    "name": "stderr",
                    "text": [
                        "WARNING: You are using pip version 21.0.1; however, version 21.2.1 is available.\n",
                        "You should consider upgrading via the 'c:\\users\\cjjol\\appdata\\local\\programs\\python\\python37\\python.exe -m pip install --upgrade pip' command.\n"
                    ]
                }
            ],
            "metadata": {}
        },
        {
            "cell_type": "code",
            "execution_count": 8,
            "source": [
                "# Imports\r\n",
                "\r\n",
                "from emmv import emmv_scores\r\n",
                "import numpy as np\r\n",
                "import matplotlib.pyplot as plt\r\n",
                "from sklearn.ensemble import IsolationForest"
            ],
            "outputs": [],
            "metadata": {}
        },
        {
            "cell_type": "code",
            "execution_count": 9,
            "source": [
                "# Create data, fit a model and retrieve EM/MV scores\r\n",
                "\r\n",
                "rng = np.random.RandomState(42)\r\n",
                "\r\n",
                "# Data and model fitting adapted from: https://scikit-learn.org/stable/auto_examples/ensemble/plot_isolation_forest.html\r\n",
                "# Generate train data\r\n",
                "X = 0.3 * rng.randn(100, 2)\r\n",
                "X_train = np.r_[X + 2, X - 2]\r\n",
                "# Generate some regular novel observations\r\n",
                "X = 0.3 * rng.randn(20, 2)\r\n",
                "X_test = np.r_[X + 2, X - 2]\r\n",
                "# Generate some abnormal novel observations\r\n",
                "X_outliers = rng.uniform(low=-4, high=4, size=(20, 2))\r\n",
                "# fit the model\r\n",
                "model = IsolationForest(max_samples=100, random_state=rng)\r\n",
                "model.fit(X_train)\r\n",
                "\r\n",
                "# Get EM & MV scores\r\n",
                "test_scores = emmv_scores(model, X)\r\n",
                "print('Excess Mass score;', test_scores['em'])\r\n",
                "print('Mass Volume score:', test_scores['mv'])"
            ],
            "outputs": [
                {
                    "output_type": "stream",
                    "name": "stdout",
                    "text": [
                        "Excess Mass score 0.005554942000000001\n",
                        "Mass Volume score 1.8267411288639857\n"
                    ]
                }
            ],
            "metadata": {}
        }
    ],
    "metadata": {
        "orig_nbformat": 4,
        "language_info": {
            "name": "python",
            "version": "3.7.6",
            "mimetype": "text/x-python",
            "codemirror_mode": {
                "name": "ipython",
                "version": 3
            },
            "pygments_lexer": "ipython3",
            "nbconvert_exporter": "python",
            "file_extension": ".py"
        },
        "kernelspec": {
            "name": "python3",
            "display_name": "Python 3.7.6 64-bit"
        },
        "interpreter": {
            "hash": "3c52f30ee383d6ece949a0f8981418e54cc2868364b6f1bfcc1791d9c5cc2c47"
        }
    },
    "nbformat": 4,
    "nbformat_minor": 2
}